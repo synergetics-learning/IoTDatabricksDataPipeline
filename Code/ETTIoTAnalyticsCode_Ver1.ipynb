{
 "cells": [
  {
   "cell_type": "code",
   "execution_count": 0,
   "metadata": {
    "application/vnd.databricks.v1+cell": {
     "cellMetadata": {
      "byteLimit": 2048000,
      "rowLimit": 10000
     },
     "inputWidgets": {},
     "nuid": "5988f9a7-be9a-41b9-b587-c8c082ed818c",
     "showTitle": false,
     "title": ""
    }
   },
   "outputs": [],
   "source": [
    "# Setup access to storage account for temp data when pushing to Synapse\n",
    "\n",
    "storage_account = \"temphumstorage\"\n",
    "spark.conf.set(f\"fs.azure.account.key.{storage_account}.blob.core.windows.net\", \"AmLztDGPPK8HHONuCuFQYDunn6kVS+hr7XjflEgikeFx1qAFIasp4zWR9hLHzX00LqvCfZOE43jP+AStj06Chw==\")"
   ]
  },
  {
   "cell_type": "code",
   "execution_count": 0,
   "metadata": {
    "application/vnd.databricks.v1+cell": {
     "cellMetadata": {
      "byteLimit": 2048000,
      "rowLimit": 10000
     },
     "inputWidgets": {},
     "nuid": "e2709600-a682-4c77-9961-cca7891fb16e",
     "showTitle": false,
     "title": ""
    }
   },
   "outputs": [
    {
     "output_type": "stream",
     "name": "stdout",
     "output_type": "stream",
     "text": [
      "Out[38]: []"
     ]
    }
   ],
   "source": [
    "# Setup storage locations for all data\n",
    "ROOT_PATH = f\"wasbs://iot@{storage_account}.blob.core.windows.net/\"\n",
    "WEATHER_PATH = ROOT_PATH + \"weather/\"\n",
    "dbutils.fs.ls(ROOT_PATH)"
   ]
  },
  {
   "cell_type": "code",
   "execution_count": 0,
   "metadata": {
    "application/vnd.databricks.v1+cell": {
     "cellMetadata": {
      "byteLimit": 2048000,
      "rowLimit": 10000
     },
     "inputWidgets": {},
     "nuid": "062cba66-d4c9-4275-9ac4-bd6e27c5ec72",
     "showTitle": false,
     "title": ""
    }
   },
   "outputs": [],
   "source": [
    "BRONZE_PATH = WEATHER_PATH + \"bronze/\"\n",
    "CHECKPOINT_BRONZE = BRONZE_PATH + \"checkpoint/\"\n",
    "#SILVER_PATH = ROOT_PATH + \"silver/\"\n",
    "GOLD_PATH = WEATHER_PATH + \"gold/\"\n",
    "CHECKPOINT_GOLD = GOLD_PATH + \"checkpoint/\"\n",
    "#CHECKPOINT_PATH = ROOT_PATH + \"checkpoints/\""
   ]
  },
  {
   "cell_type": "code",
   "execution_count": 0,
   "metadata": {
    "application/vnd.databricks.v1+cell": {
     "cellMetadata": {
      "byteLimit": 2048000,
      "rowLimit": 10000
     },
     "inputWidgets": {},
     "nuid": "8638fd4d-f5da-42b3-b744-41c0dc0a282a",
     "showTitle": false,
     "title": ""
    }
   },
   "outputs": [
    {
     "output_type": "stream",
     "name": "stdout",
     "output_type": "stream",
     "text": [
      "Out[41]: False"
     ]
    }
   ],
   "source": [
    "dbutils.fs.rm(WEATHER_PATH , True)"
   ]
  },
  {
   "cell_type": "code",
   "execution_count": 0,
   "metadata": {
    "application/vnd.databricks.v1+cell": {
     "cellMetadata": {
      "byteLimit": 2048000,
      "rowLimit": 10000
     },
     "inputWidgets": {},
     "nuid": "e248a540-1a6a-4cd3-9781-0f7f3b858e6a",
     "showTitle": false,
     "title": ""
    }
   },
   "outputs": [],
   "source": [
    "IOT_CS = \"Endpoint=sb://ihsuprodblres033dednamespace.servicebus.windows.net/;SharedAccessKeyName=iothubowner;SharedAccessKey=Wv4iaSjNkPbNi51fg4XSs/yJMwp2MG71yxo6YWIBIfI=;EntityPath=iothub-ehub-temphumhub-24669055-edb9e46156\" # dbutils.secrets.get('iot','iothub-cs') # IoT Hub connection string (Event Hub Compatible)\n",
    "ehConf = { \n",
    "  'eventhubs.connectionString':sc._jvm.org.apache.spark.eventhubs.EventHubsUtils.encrypt(IOT_CS),\n",
    "  'ehName':\"iothub-ehub-temphumhub-24669055-edb9e46156\"\n",
    "}"
   ]
  },
  {
   "cell_type": "code",
   "execution_count": 0,
   "metadata": {
    "application/vnd.databricks.v1+cell": {
     "cellMetadata": {
      "byteLimit": 2048000,
      "rowLimit": 10000
     },
     "inputWidgets": {},
     "nuid": "47fce3e4-1dcd-4861-a5fa-71233730e052",
     "showTitle": false,
     "title": ""
    }
   },
   "outputs": [],
   "source": [
    "# Enable auto compaction and optimized writes in Delta\n",
    "spark.conf.set(\"spark.databricks.delta.optimizeWrite.enabled\",\"true\")\n",
    "spark.conf.set(\"spark.databricks.delta.autoCompact.enabled\",\"true\")"
   ]
  },
  {
   "cell_type": "code",
   "execution_count": 0,
   "metadata": {
    "application/vnd.databricks.v1+cell": {
     "cellMetadata": {
      "byteLimit": 2048000,
      "rowLimit": 10000
     },
     "inputWidgets": {},
     "nuid": "9e5617a6-2680-411d-855e-658f2a5ee0e6",
     "showTitle": false,
     "title": ""
    }
   },
   "outputs": [],
   "source": [
    "# Pyspark and ML Imports\n",
    "import os, json, requests\n",
    "from pyspark.sql import functions as F\n",
    "from pyspark.sql.functions import pandas_udf, PandasUDFType"
   ]
  },
  {
   "cell_type": "code",
   "execution_count": 0,
   "metadata": {
    "application/vnd.databricks.v1+cell": {
     "cellMetadata": {
      "byteLimit": 2048000,
      "rowLimit": 10000
     },
     "inputWidgets": {},
     "nuid": "d7b0ce91-dd2b-4d27-9764-4ab3ad1f2de2",
     "showTitle": false,
     "title": ""
    }
   },
   "outputs": [],
   "source": [
    "# Schema of incoming data from IoT hub\n",
    "schema = \"timestamp timestamp, deviceId string, temperature double, humidity double\"\n",
    "#windspeed double, winddirection string, rpm double, angle double\"\n",
    "\n",
    "# Read directly from IoT Hub using the EventHubs library for Databricks\n",
    "iot_stream = (\n",
    "  spark.readStream.format(\"eventhubs\")                                               # Read from IoT Hubs directly\n",
    "    .options(**ehConf)                                                               # Use the Event-Hub-enabled connect string\n",
    "    .load()                                                                          # Load the data\n",
    "    .withColumn('reading', F.from_json(F.col('body').cast('string'), schema))        # Extract the \"body\" payload from the message               \n",
    "    .select('reading.*', F.to_date('reading.timestamp').alias('date')) # Create a \"date\" field for partitioning\n",
    "    \n",
    ")"
   ]
  },
  {
   "cell_type": "code",
   "execution_count": 0,
   "metadata": {
    "application/vnd.databricks.v1+cell": {
     "cellMetadata": {
      "byteLimit": 2048000,
      "rowLimit": 10000
     },
     "inputWidgets": {},
     "nuid": "38d10704-d236-4950-9332-7455f66c1538",
     "showTitle": false,
     "title": ""
    }
   },
   "outputs": [
    {
     "output_type": "stream",
     "name": "stdout",
     "output_type": "stream",
     "text": [
      "Out[46]: <pyspark.sql.streaming.query.StreamingQuery at 0x7ff4460169d0>"
     ]
    }
   ],
   "source": [
    "# Split our IoT Hub stream into separate streams and write them both into their own Delta locations\n",
    "(iot_stream\n",
    ".filter(iot_stream.temperature.isNotNull())                              # Filter out weather telemetry only\n",
    ".select('date','deviceid','timestamp','temperature','humidity') \n",
    ".writeStream.format('delta').option(\"mergeSchema\", \"true\")                       # Write our stream to the Delta format\n",
    ".partitionBy('date')                                                             # Partition our data by Date for performance\n",
    ".option(\"checkpointLocation\", CHECKPOINT_BRONZE + \"weather_raw\")\n",
    "    # Checkpoint so we can restart streams gracefully\n",
    ".start(BRONZE_PATH + \"weather_raw\"))                                              # Stream the data into an ADLS Path"
   ]
  },
  {
   "cell_type": "code",
   "execution_count": 0,
   "metadata": {
    "application/vnd.databricks.v1+cell": {
     "cellMetadata": {
      "byteLimit": 2048000,
      "rowLimit": 10000
     },
     "inputWidgets": {},
     "nuid": "8b5a3f51-c93f-40ef-8c8d-4d33b749a107",
     "showTitle": false,
     "title": ""
    }
   },
   "outputs": [],
   "source": [
    "# Create the external tables once data starts to stream in\n",
    "while True:\n",
    "    try:\n",
    "        spark.sql(f'CREATE TABLE IF NOT EXISTS weather_raw USING DELTA LOCATION \"{BRONZE_PATH + \"weather_raw\"}\"')\n",
    "        break\n",
    "    except:\n",
    "        pass"
   ]
  },
  {
   "cell_type": "code",
   "execution_count": 0,
   "metadata": {
    "application/vnd.databricks.v1+cell": {
     "cellMetadata": {
      "byteLimit": 2048000,
      "implicitDf": true,
      "rowLimit": 10000
     },
     "inputWidgets": {},
     "nuid": "5bb62f1c-9a56-4b0f-ba45-bb3c2172cd86",
     "showTitle": false,
     "title": ""
    }
   },
   "outputs": [
    {
     "output_type": "display_data",
     "data": {
      "text/html": [
       "<style scoped>\n  .table-result-container {\n    max-height: 300px;\n    overflow: auto;\n  }\n  table, th, td {\n    border: 1px solid black;\n    border-collapse: collapse;\n  }\n  th, td {\n    padding: 5px;\n  }\n  th {\n    text-align: left;\n  }\n</style><div class='table-result-container'><table class='table-result'><thead style='background-color: white'><tr></tr></thead><tbody></tbody></table></div>"
      ]
     },
     "metadata": {
      "application/vnd.databricks.v1+output": {
       "addedWidgets": {},
       "aggData": [],
       "aggError": "",
       "aggOverflow": false,
       "aggSchema": [],
       "aggSeriesLimitReached": false,
       "aggType": "",
       "arguments": {},
       "columnCustomDisplayInfos": {},
       "data": [],
       "datasetInfos": [],
       "dbfsResultPath": null,
       "isJsonSchema": true,
       "metadata": {},
       "overflow": false,
       "plotOptions": {
        "customPlotOptions": {},
        "displayType": "table",
        "pivotAggregation": null,
        "pivotColumns": null,
        "xColumns": null,
        "yColumns": null
       },
       "removedWidgets": [],
       "schema": [],
       "type": "table"
      }
     },
     "output_type": "display_data"
    }
   ],
   "source": [
    "%sql\n",
    "DROP TABLE weather_raw;"
   ]
  },
  {
   "cell_type": "code",
   "execution_count": 0,
   "metadata": {
    "application/vnd.databricks.v1+cell": {
     "cellMetadata": {
      "byteLimit": 2048000,
      "implicitDf": true,
      "rowLimit": 10000
     },
     "inputWidgets": {},
     "nuid": "3fc2df82-d864-41c0-b5e4-ed2690446857",
     "showTitle": false,
     "title": ""
    }
   },
   "outputs": [
    {
     "output_type": "display_data",
     "data": {
      "text/html": [
       "<style scoped>\n  .table-result-container {\n    max-height: 300px;\n    overflow: auto;\n  }\n  table, th, td {\n    border: 1px solid black;\n    border-collapse: collapse;\n  }\n  th, td {\n    padding: 5px;\n  }\n  th {\n    text-align: left;\n  }\n</style><div class='table-result-container'><table class='table-result'><thead style='background-color: white'><tr><th>count(1)</th></tr></thead><tbody><tr><td>6</td></tr></tbody></table></div>"
      ]
     },
     "metadata": {
      "application/vnd.databricks.v1+output": {
       "addedWidgets": {},
       "aggData": [],
       "aggError": "",
       "aggOverflow": false,
       "aggSchema": [],
       "aggSeriesLimitReached": false,
       "aggType": "",
       "arguments": {},
       "columnCustomDisplayInfos": {},
       "data": [
        [
         6
        ]
       ],
       "datasetInfos": [],
       "dbfsResultPath": null,
       "isJsonSchema": true,
       "metadata": {},
       "overflow": false,
       "plotOptions": {
        "customPlotOptions": {},
        "displayType": "table",
        "pivotAggregation": null,
        "pivotColumns": null,
        "xColumns": null,
        "yColumns": null
       },
       "removedWidgets": [],
       "schema": [
        {
         "metadata": "{\"__autoGeneratedAlias\":\"true\"}",
         "name": "count(1)",
         "type": "\"long\""
        }
       ],
       "type": "table"
      }
     },
     "output_type": "display_data"
    }
   ],
   "source": [
    "%sql\n",
    "SELECT COUNT(*) FROM weather_raw where deviceid = \"temphum\";"
   ]
  },
  {
   "cell_type": "code",
   "execution_count": 0,
   "metadata": {
    "application/vnd.databricks.v1+cell": {
     "cellMetadata": {
      "byteLimit": 2048000,
      "rowLimit": 10000
     },
     "inputWidgets": {},
     "nuid": "d39daffd-9d5c-4029-a596-6160544335e3",
     "showTitle": false,
     "title": ""
    }
   },
   "outputs": [],
   "source": [
    "# Create functions to merge weather data into their target Delta tables\n",
    "def merge_delta(incremental, target):\n",
    "    incremental.dropDuplicates(['date','window','deviceid']).createOrReplaceTempView(\"incremental\")\n",
    "    try:\n",
    "    # MERGE records into the target table using the specified join key\n",
    "        incremental._jdf.sparkSession().sql(f\"\"\"\n",
    "      MERGE INTO delta.`{target}` t\n",
    "      USING incremental i\n",
    "      ON i.date=t.date AND i.window = t.window AND i.deviceId = t.deviceid\n",
    "      WHEN MATCHED THEN UPDATE SET *\n",
    "      WHEN NOT MATCHED THEN INSERT *\n",
    "    \"\"\")\n",
    "    except:\n",
    "    # If the †arget table does not exist, create one\n",
    "        incremental.write.format(\"delta\").partitionBy(\"date\").save(target)"
   ]
  },
  {
   "cell_type": "code",
   "execution_count": 0,
   "metadata": {
    "application/vnd.databricks.v1+cell": {
     "cellMetadata": {
      "byteLimit": 2048000,
      "rowLimit": 10000
     },
     "inputWidgets": {},
     "nuid": "086c156f-b4bc-4915-a102-89be82aee8f5",
     "showTitle": false,
     "title": ""
    }
   },
   "outputs": [],
   "source": [
    "weather_df = (spark.readStream.format('delta').table(\"weather_raw\")                        # Read data as a stream from our source Delta table\n",
    "    .groupBy('deviceid','date',F.window('timestamp','5 minutes'))              # Aggregate readings to hourly intervals\n",
    "    .agg({\"temperature\":\"avg\",\"humidity\":\"avg\"})\n",
    "    .selectExpr('date','window','deviceid','`avg(temperature)` as avg_temperature','`avg(humidity)` as avg_humidity')\n",
    "    .writeStream                                                               # Write the resulting stream\n",
    "    .foreachBatch(lambda i, b: merge_delta(i, GOLD_PATH + \"weather_agg\"))    # Pass each micro-batch to a function\n",
    "    .outputMode(\"update\")                                                      # Merge works with update mode\n",
    "    .option(\"checkpointLocation\", CHECKPOINT_GOLD + \"weather_agg\")             # Checkpoint so we can restart streams gracefully\n",
    "    .start()  \n",
    ")"
   ]
  },
  {
   "cell_type": "code",
   "execution_count": 0,
   "metadata": {
    "application/vnd.databricks.v1+cell": {
     "cellMetadata": {
      "byteLimit": 2048000,
      "implicitDf": true,
      "rowLimit": 10000
     },
     "inputWidgets": {},
     "nuid": "d5ca56ba-4cca-4550-9d1c-28f83038551b",
     "showTitle": false,
     "title": ""
    }
   },
   "outputs": [
    {
     "output_type": "display_data",
     "data": {
      "text/html": [
       "<style scoped>\n  .table-result-container {\n    max-height: 300px;\n    overflow: auto;\n  }\n  table, th, td {\n    border: 1px solid black;\n    border-collapse: collapse;\n  }\n  th, td {\n    padding: 5px;\n  }\n  th {\n    text-align: left;\n  }\n</style><div class='table-result-container'><table class='table-result'><thead style='background-color: white'><tr></tr></thead><tbody></tbody></table></div>"
      ]
     },
     "metadata": {
      "application/vnd.databricks.v1+output": {
       "addedWidgets": {},
       "aggData": [],
       "aggError": "",
       "aggOverflow": false,
       "aggSchema": [],
       "aggSeriesLimitReached": false,
       "aggType": "",
       "arguments": {},
       "columnCustomDisplayInfos": {},
       "data": [],
       "datasetInfos": [],
       "dbfsResultPath": null,
       "isJsonSchema": true,
       "metadata": {},
       "overflow": false,
       "plotOptions": {
        "customPlotOptions": {},
        "displayType": "table",
        "pivotAggregation": null,
        "pivotColumns": null,
        "xColumns": null,
        "yColumns": null
       },
       "removedWidgets": [],
       "schema": [],
       "type": "table"
      }
     },
     "output_type": "display_data"
    }
   ],
   "source": [
    "%sql\n",
    "DROP TABLE weather_agg;"
   ]
  },
  {
   "cell_type": "code",
   "execution_count": 0,
   "metadata": {
    "application/vnd.databricks.v1+cell": {
     "cellMetadata": {
      "byteLimit": 2048000,
      "rowLimit": 10000
     },
     "inputWidgets": {},
     "nuid": "13d15251-3b3e-454b-bba8-740724790139",
     "showTitle": false,
     "title": ""
    }
   },
   "outputs": [],
   "source": [
    "while True:\n",
    "    try:\n",
    "        spark.sql(f'CREATE TABLE IF NOT EXISTS weather_agg USING DELTA LOCATION \"{GOLD_PATH + \"weather_agg\"}\"')\n",
    "        break\n",
    "    except:\n",
    "        pass"
   ]
  },
  {
   "cell_type": "code",
   "execution_count": 0,
   "metadata": {
    "application/vnd.databricks.v1+cell": {
     "cellMetadata": {
      "byteLimit": 2048000,
      "implicitDf": true,
      "rowLimit": 10000
     },
     "inputWidgets": {},
     "nuid": "1ad0964b-beaf-483d-8483-a3574294d237",
     "showTitle": false,
     "title": ""
    }
   },
   "outputs": [
    {
     "output_type": "display_data",
     "data": {
      "text/html": [
       "<style scoped>\n  .table-result-container {\n    max-height: 300px;\n    overflow: auto;\n  }\n  table, th, td {\n    border: 1px solid black;\n    border-collapse: collapse;\n  }\n  th, td {\n    padding: 5px;\n  }\n  th {\n    text-align: left;\n  }\n</style><div class='table-result-container'><table class='table-result'><thead style='background-color: white'><tr><th>date</th><th>window</th><th>deviceid</th><th>avg_temperature</th><th>avg_humidity</th></tr></thead><tbody><tr><td>2023-03-09</td><td>List(2023-03-09T05:50:00.000+0000, 2023-03-09T05:55:00.000+0000)</td><td>temphum</td><td>26.655916594659338</td><td>69.84137210623767</td></tr><tr><td>2023-03-09</td><td>List(2023-03-09T05:45:00.000+0000, 2023-03-09T05:50:00.000+0000)</td><td>temphum</td><td>24.276380985021543</td><td>67.0970103601317</td></tr></tbody></table></div>"
      ]
     },
     "metadata": {
      "application/vnd.databricks.v1+output": {
       "addedWidgets": {},
       "aggData": [],
       "aggError": "",
       "aggOverflow": false,
       "aggSchema": [],
       "aggSeriesLimitReached": false,
       "aggType": "",
       "arguments": {},
       "columnCustomDisplayInfos": {},
       "data": [
        [
         "2023-03-09",
         [
          "2023-03-09T05:50:00.000+0000",
          "2023-03-09T05:55:00.000+0000"
         ],
         "temphum",
         26.655916594659338,
         69.84137210623767
        ],
        [
         "2023-03-09",
         [
          "2023-03-09T05:45:00.000+0000",
          "2023-03-09T05:50:00.000+0000"
         ],
         "temphum",
         24.276380985021543,
         67.0970103601317
        ]
       ],
       "datasetInfos": [],
       "dbfsResultPath": null,
       "isJsonSchema": true,
       "metadata": {},
       "overflow": false,
       "plotOptions": {
        "customPlotOptions": {},
        "displayType": "table",
        "pivotAggregation": null,
        "pivotColumns": null,
        "xColumns": null,
        "yColumns": null
       },
       "removedWidgets": [],
       "schema": [
        {
         "metadata": "{}",
         "name": "date",
         "type": "\"date\""
        },
        {
         "metadata": "{}",
         "name": "window",
         "type": "{\"type\":\"struct\",\"fields\":[{\"name\":\"start\",\"type\":\"timestamp\",\"nullable\":true,\"metadata\":{}},{\"name\":\"end\",\"type\":\"timestamp\",\"nullable\":true,\"metadata\":{}}]}"
        },
        {
         "metadata": "{}",
         "name": "deviceid",
         "type": "\"string\""
        },
        {
         "metadata": "{}",
         "name": "avg_temperature",
         "type": "\"double\""
        },
        {
         "metadata": "{}",
         "name": "avg_humidity",
         "type": "\"double\""
        }
       ],
       "type": "table"
      }
     },
     "output_type": "display_data"
    }
   ],
   "source": [
    "%sql\n",
    "select * from weather_agg;"
   ]
  },
  {
   "cell_type": "code",
   "execution_count": 0,
   "metadata": {
    "application/vnd.databricks.v1+cell": {
     "cellMetadata": {
      "byteLimit": 2048000,
      "rowLimit": 10000
     },
     "inputWidgets": {},
     "nuid": "c9d21a2b-5c83-45ab-aad4-a8bfec3d3c5c",
     "showTitle": false,
     "title": ""
    }
   },
   "outputs": [],
   "source": [
    "(spark.readStream\n",
    "  .format(\"delta\")\n",
    "  .load(BRONZE_PATH + \"weather_raw\")\n",
    "  .createOrReplaceTempView(\"weather_table\")\n",
    ")\n"
   ]
  },
  {
   "cell_type": "code",
   "execution_count": 0,
   "metadata": {
    "application/vnd.databricks.v1+cell": {
     "cellMetadata": {
      "byteLimit": 2048000,
      "implicitDf": true,
      "rowLimit": 10000
     },
     "inputWidgets": {},
     "nuid": "44b8acae-f9fe-4bf7-845b-5a59716ee2c4",
     "showTitle": false,
     "title": ""
    }
   },
   "outputs": [
    {
     "output_type": "display_data",
     "data": {
      "text/html": [
       "<style scoped>\n  .table-result-container {\n    max-height: 300px;\n    overflow: auto;\n  }\n  table, th, td {\n    border: 1px solid black;\n    border-collapse: collapse;\n  }\n  th, td {\n    padding: 5px;\n  }\n  th {\n    text-align: left;\n  }\n</style><div class='table-result-container'><table class='table-result'><thead style='background-color: white'><tr><th>date</th><th>deviceid</th><th>timestamp</th><th>temperature</th><th>humidity</th></tr></thead><tbody><tr><td>2023-03-09</td><td>temphum</td><td>2023-03-09T05:47:11.000+0000</td><td>31.367398746293674</td><td>74.24725126120478</td></tr><tr><td>2023-03-09</td><td>temphum</td><td>2023-03-09T05:48:11.000+0000</td><td>21.048240893139262</td><td>60.40791703061616</td></tr><tr><td>2023-03-09</td><td>temphum</td><td>2023-03-09T05:49:11.000+0000</td><td>20.413503315631683</td><td>66.6358627885742</td></tr><tr><td>2023-03-09</td><td>temphum</td><td>2023-03-09T05:52:11.000+0000</td><td>26.23898347765408</td><td>74.54795335917834</td></tr><tr><td>2023-03-09</td><td>temphum</td><td>2023-03-09T05:53:11.000+0000</td><td>29.16460223639552</td><td>61.68478937998501</td></tr><tr><td>2023-03-09</td><td>temphum</td><td>2023-03-09T05:54:11.000+0000</td><td>26.334466472860264</td><td>66.78721489113478</td></tr><tr><td>2023-03-09</td><td>temphum</td><td>2023-03-09T05:55:11.000+0000</td><td>28.71931042475876</td><td>79.3273291216309</td></tr><tr><td>2023-03-09</td><td>temphum</td><td>2023-03-09T05:57:11.000+0000</td><td>21.367946204518326</td><td>62.17112092488283</td></tr><tr><td>2023-03-09</td><td>temphum</td><td>2023-03-09T05:50:11.000+0000</td><td>29.584431232723865</td><td>77.49574782307202</td></tr><tr><td>2023-03-09</td><td>temphum</td><td>2023-03-09T05:51:11.000+0000</td><td>21.635649431863904</td><td>65.63699786271529</td></tr><tr><td>2023-03-09</td><td>temphum</td><td>2023-03-09T05:56:11.000+0000</td><td>30.143313346857884</td><td>73.84361434038718</td></tr><tr><td>2023-03-09</td><td>temphum</td><td>2023-03-09T05:58:11.000+0000</td><td>30.946042267345717</td><td>64.06738291662724</td></tr><tr><td>2023-03-09</td><td>temphum</td><td>2023-03-09T05:59:11.000+0000</td><td>26.44482864930589</td><td>62.850482053165216</td></tr><tr><td>2023-03-09</td><td>temphum</td><td>2023-03-09T06:00:11.000+0000</td><td>30.98986989170905</td><td>60.20957701860892</td></tr><tr><td>2023-03-09</td><td>temphum</td><td>2023-03-09T06:01:11.000+0000</td><td>27.2362200352521</td><td>68.778412364405</td></tr><tr><td>2023-03-09</td><td>temphum</td><td>2023-03-09T06:02:11.000+0000</td><td>25.50747259830195</td><td>67.02349496551639</td></tr></tbody></table></div>"
      ]
     },
     "metadata": {
      "application/vnd.databricks.v1+output": {
       "addedWidgets": {},
       "aggData": [],
       "aggError": "",
       "aggOverflow": false,
       "aggSchema": [],
       "aggSeriesLimitReached": false,
       "aggType": "",
       "arguments": {},
       "columnCustomDisplayInfos": {},
       "data": [
        [
         "2023-03-09",
         "temphum",
         "2023-03-09T05:47:11.000+0000",
         31.367398746293674,
         74.24725126120478
        ],
        [
         "2023-03-09",
         "temphum",
         "2023-03-09T05:48:11.000+0000",
         21.048240893139262,
         60.40791703061616
        ],
        [
         "2023-03-09",
         "temphum",
         "2023-03-09T05:49:11.000+0000",
         20.413503315631683,
         66.6358627885742
        ],
        [
         "2023-03-09",
         "temphum",
         "2023-03-09T05:52:11.000+0000",
         26.23898347765408,
         74.54795335917834
        ],
        [
         "2023-03-09",
         "temphum",
         "2023-03-09T05:53:11.000+0000",
         29.16460223639552,
         61.68478937998501
        ],
        [
         "2023-03-09",
         "temphum",
         "2023-03-09T05:54:11.000+0000",
         26.334466472860264,
         66.78721489113478
        ],
        [
         "2023-03-09",
         "temphum",
         "2023-03-09T05:55:11.000+0000",
         28.71931042475876,
         79.3273291216309
        ],
        [
         "2023-03-09",
         "temphum",
         "2023-03-09T05:57:11.000+0000",
         21.367946204518326,
         62.17112092488283
        ],
        [
         "2023-03-09",
         "temphum",
         "2023-03-09T05:50:11.000+0000",
         29.584431232723865,
         77.49574782307202
        ],
        [
         "2023-03-09",
         "temphum",
         "2023-03-09T05:51:11.000+0000",
         21.635649431863904,
         65.63699786271529
        ],
        [
         "2023-03-09",
         "temphum",
         "2023-03-09T05:56:11.000+0000",
         30.143313346857884,
         73.84361434038718
        ],
        [
         "2023-03-09",
         "temphum",
         "2023-03-09T05:58:11.000+0000",
         30.946042267345717,
         64.06738291662724
        ],
        [
         "2023-03-09",
         "temphum",
         "2023-03-09T05:59:11.000+0000",
         26.44482864930589,
         62.850482053165216
        ],
        [
         "2023-03-09",
         "temphum",
         "2023-03-09T06:00:11.000+0000",
         30.98986989170905,
         60.20957701860892
        ],
        [
         "2023-03-09",
         "temphum",
         "2023-03-09T06:01:11.000+0000",
         27.2362200352521,
         68.778412364405
        ],
        [
         "2023-03-09",
         "temphum",
         "2023-03-09T06:02:11.000+0000",
         25.50747259830195,
         67.02349496551639
        ]
       ],
       "datasetInfos": [],
       "dbfsResultPath": null,
       "isJsonSchema": true,
       "metadata": {
        "isDbfsCommandResult": false
       },
       "overflow": false,
       "plotOptions": {
        "customPlotOptions": {},
        "displayType": "table",
        "pivotAggregation": null,
        "pivotColumns": null,
        "xColumns": null,
        "yColumns": null
       },
       "removedWidgets": [],
       "schema": [
        {
         "metadata": "{}",
         "name": "date",
         "type": "\"date\""
        },
        {
         "metadata": "{}",
         "name": "deviceid",
         "type": "\"string\""
        },
        {
         "metadata": "{}",
         "name": "timestamp",
         "type": "\"timestamp\""
        },
        {
         "metadata": "{}",
         "name": "temperature",
         "type": "\"double\""
        },
        {
         "metadata": "{}",
         "name": "humidity",
         "type": "\"double\""
        }
       ],
       "type": "table"
      }
     },
     "output_type": "display_data"
    }
   ],
   "source": [
    "%sql\n",
    "SELECT * FROM weather_table;"
   ]
  },
  {
   "cell_type": "code",
   "execution_count": 0,
   "metadata": {
    "application/vnd.databricks.v1+cell": {
     "cellMetadata": {},
     "inputWidgets": {},
     "nuid": "b3d01363-0db1-4b29-9a1c-4d13de084076",
     "showTitle": false,
     "title": ""
    }
   },
   "outputs": [],
   "source": []
  }
 ],
 "metadata": {
  "application/vnd.databricks.v1+notebook": {
   "dashboards": [],
   "language": "python",
   "notebookMetadata": {
    "mostRecentlyExecutedCommandWithImplicitDF": {
     "commandId": 4412516456995113,
     "dataframes": [
      "_sqldf"
     ]
    },
    "pythonIndentUnit": 4
   },
   "notebookName": "Notebook2",
   "notebookOrigID": 654531012944644,
   "widgets": {}
  }
 },
 "nbformat": 4,
 "nbformat_minor": 0
}
